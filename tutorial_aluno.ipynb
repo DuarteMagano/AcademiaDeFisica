{
  "nbformat": 4,
  "nbformat_minor": 0,
  "metadata": {
    "colab": {
      "provenance": [],
      "collapsed_sections": [
        "rAFjElgwRtXQ",
        "25eCh_QQR3gQ",
        "9CLzs7ZZTTh9",
        "oyI_CObeRQFv"
      ],
      "authorship_tag": "ABX9TyNLGhuTxq1ii1+HUtN03Wxc",
      "include_colab_link": true
    },
    "kernelspec": {
      "name": "python3",
      "display_name": "Python 3"
    },
    "language_info": {
      "name": "python"
    }
  },
  "cells": [
    {
      "cell_type": "markdown",
      "metadata": {
        "id": "view-in-github",
        "colab_type": "text"
      },
      "source": [
        "<a href=\"https://colab.research.google.com/github/DuarteMagano/AcademiaDeFisica/blob/main/tutorial_aluno.ipynb\" target=\"_parent\"><img src=\"https://colab.research.google.com/assets/colab-badge.svg\" alt=\"Open In Colab\"/></a>"
      ]
    },
    {
      "cell_type": "code",
      "execution_count": null,
      "metadata": {
        "id": "NDjy-YbQ0WXK"
      },
      "outputs": [],
      "source": [
        "%%capture\n",
        "%pip install qiskit==1.3.2 pylatexenc\n",
        "%pip install qiskit-ibm-runtime==0.35.0\n",
        "# este notebook foi testado para a versão do qiskit 1.3.2 e a versão do qiskit-ibm-runtime 0.35.0"
      ]
    },
    {
      "cell_type": "markdown",
      "source": [
        "# Introdução à Informação Quântica"
      ],
      "metadata": {
        "id": "w2uUfVv4DIrr"
      }
    },
    {
      "cell_type": "markdown",
      "source": [
        "## Estados quânticos"
      ],
      "metadata": {
        "id": "25eCh_QQR3gQ"
      }
    },
    {
      "cell_type": "code",
      "source": [
        "import numpy as np\n",
        "\n",
        "from qiskit.quantum_info import Statevector\n",
        "from qiskit.visualization import plot_histogram, plot_bloch_multivector"
      ],
      "metadata": {
        "id": "WU6Erc4wRJJn"
      },
      "execution_count": null,
      "outputs": []
    },
    {
      "cell_type": "markdown",
      "source": [
        "## Operações quânticas"
      ],
      "metadata": {
        "id": "9CLzs7ZZTTh9"
      }
    },
    {
      "cell_type": "code",
      "source": [
        "from qiskit.quantum_info import Operator"
      ],
      "metadata": {
        "id": "b0vGdIX1TmAN"
      },
      "execution_count": null,
      "outputs": []
    },
    {
      "cell_type": "markdown",
      "source": [
        "## Circuitos quânticos"
      ],
      "metadata": {
        "id": "F_NuJ433HY53"
      }
    },
    {
      "cell_type": "code",
      "source": [
        "from qiskit import QuantumCircuit\n",
        "\n",
        "from qiskit.primitives import StatevectorSampler\n",
        "from qiskit import QuantumRegister, ClassicalRegister"
      ],
      "metadata": {
        "id": "2CcGFB-7IxIv"
      },
      "execution_count": null,
      "outputs": []
    },
    {
      "cell_type": "markdown",
      "source": [
        "# BB84"
      ],
      "metadata": {
        "id": "T9TQJNC5CyPJ"
      }
    },
    {
      "cell_type": "markdown",
      "source": [
        "## Demonstração de princípio"
      ],
      "metadata": {
        "id": "BgIc31rgDCy4"
      }
    },
    {
      "cell_type": "code",
      "source": [
        "from qiskit import transpile\n",
        "from qiskit.providers.fake_provider import GenericBackendV2"
      ],
      "metadata": {
        "id": "sYn-uLWAHVtx"
      },
      "execution_count": null,
      "outputs": []
    },
    {
      "cell_type": "markdown",
      "source": [
        "## Protocol"
      ],
      "metadata": {
        "id": "ZZiz2Xp5O4nJ"
      }
    },
    {
      "cell_type": "code",
      "source": [
        "from numpy.random import randint"
      ],
      "metadata": {
        "id": "M_3K5oV_PlzK"
      },
      "execution_count": null,
      "outputs": []
    },
    {
      "cell_type": "markdown",
      "source": [
        "# Qiskit runtime"
      ],
      "metadata": {
        "id": "6lNc-IpWNwOo"
      }
    },
    {
      "cell_type": "code",
      "source": [
        "from qiskit_ibm_runtime import QiskitRuntimeService\n",
        "from qiskit_ibm_runtime import SamplerV2\n",
        "\n",
        "from qiskit.transpiler.preset_passmanagers import generate_preset_pass_manager\n",
        "\n",
        "from google.colab import userdata"
      ],
      "metadata": {
        "id": "a7ihPiJwNxvN"
      },
      "execution_count": null,
      "outputs": []
    },
    {
      "cell_type": "code",
      "source": [],
      "metadata": {
        "id": "uXHk5KIURQg1"
      },
      "execution_count": null,
      "outputs": []
    }
  ]
}